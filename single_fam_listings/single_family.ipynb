{
 "cells": [
  {
   "cell_type": "code",
   "execution_count": 1082,
   "metadata": {},
   "outputs": [],
   "source": [
    "import numpy as np\n",
    "import pandas as pd\n",
    "import matplotlib.pyplot as plt\n",
    "from sklearn.linear_model import LinearRegression\n",
    "from sklearn.model_selection import train_test_split\n",
    "from sklearn.metrics import r2_score\n",
    "from sklearn.preprocessing import LabelEncoder"
   ]
  },
  {
   "cell_type": "code",
   "execution_count": 1083,
   "metadata": {},
   "outputs": [],
   "source": [
    "data = pd.read_csv(\"ca_singlefam_listing.csv\")"
   ]
  },
  {
   "cell_type": "code",
   "execution_count": 1084,
   "metadata": {},
   "outputs": [
    {
     "data": {
      "text/html": [
       "<div>\n",
       "<style scoped>\n",
       "    .dataframe tbody tr th:only-of-type {\n",
       "        vertical-align: middle;\n",
       "    }\n",
       "\n",
       "    .dataframe tbody tr th {\n",
       "        vertical-align: top;\n",
       "    }\n",
       "\n",
       "    .dataframe thead th {\n",
       "        text-align: right;\n",
       "    }\n",
       "</style>\n",
       "<table border=\"1\" class=\"dataframe\">\n",
       "  <thead>\n",
       "    <tr style=\"text-align: right;\">\n",
       "      <th></th>\n",
       "      <th>property_id</th>\n",
       "      <th>prop_type</th>\n",
       "      <th>price</th>\n",
       "      <th>baths_half</th>\n",
       "      <th>baths_full</th>\n",
       "      <th>beds</th>\n",
       "      <th>city</th>\n",
       "      <th>postal_code</th>\n",
       "      <th>state_code</th>\n",
       "      <th>county</th>\n",
       "      <th>building_size</th>\n",
       "      <th>lot_size</th>\n",
       "    </tr>\n",
       "  </thead>\n",
       "  <tbody>\n",
       "    <tr>\n",
       "      <th>0</th>\n",
       "      <td>M1420126120</td>\n",
       "      <td>single_family</td>\n",
       "      <td>499700</td>\n",
       "      <td>0.0</td>\n",
       "      <td>3.0</td>\n",
       "      <td>4</td>\n",
       "      <td>Dixon</td>\n",
       "      <td>95620</td>\n",
       "      <td>CA</td>\n",
       "      <td>Solano</td>\n",
       "      <td>2169.0</td>\n",
       "      <td>4783.0</td>\n",
       "    </tr>\n",
       "    <tr>\n",
       "      <th>1</th>\n",
       "      <td>M2415397004</td>\n",
       "      <td>single_family</td>\n",
       "      <td>340000</td>\n",
       "      <td>0.0</td>\n",
       "      <td>2.0</td>\n",
       "      <td>3</td>\n",
       "      <td>Sacramento</td>\n",
       "      <td>95826</td>\n",
       "      <td>CA</td>\n",
       "      <td>Sacramento</td>\n",
       "      <td>1270.0</td>\n",
       "      <td>5920.0</td>\n",
       "    </tr>\n",
       "    <tr>\n",
       "      <th>2</th>\n",
       "      <td>M1186346624</td>\n",
       "      <td>single_family</td>\n",
       "      <td>375900</td>\n",
       "      <td>0.0</td>\n",
       "      <td>3.0</td>\n",
       "      <td>4</td>\n",
       "      <td>Citrus Heights</td>\n",
       "      <td>95610</td>\n",
       "      <td>CA</td>\n",
       "      <td>Sacramento</td>\n",
       "      <td>1736.0</td>\n",
       "      <td>6098.0</td>\n",
       "    </tr>\n",
       "    <tr>\n",
       "      <th>3</th>\n",
       "      <td>M2897618299</td>\n",
       "      <td>single_family</td>\n",
       "      <td>395000</td>\n",
       "      <td>0.0</td>\n",
       "      <td>2.0</td>\n",
       "      <td>3</td>\n",
       "      <td>Sacramento</td>\n",
       "      <td>95826</td>\n",
       "      <td>CA</td>\n",
       "      <td>Sacramento</td>\n",
       "      <td>1516.0</td>\n",
       "      <td>6739.0</td>\n",
       "    </tr>\n",
       "    <tr>\n",
       "      <th>4</th>\n",
       "      <td>M2738139661</td>\n",
       "      <td>single_family</td>\n",
       "      <td>1275000</td>\n",
       "      <td>0.0</td>\n",
       "      <td>3.0</td>\n",
       "      <td>3</td>\n",
       "      <td>Sacramento</td>\n",
       "      <td>95831</td>\n",
       "      <td>CA</td>\n",
       "      <td>Sacramento</td>\n",
       "      <td>3375.0</td>\n",
       "      <td>24202.0</td>\n",
       "    </tr>\n",
       "  </tbody>\n",
       "</table>\n",
       "</div>"
      ],
      "text/plain": [
       "   property_id      prop_type    price  baths_half  baths_full  beds  \\\n",
       "0  M1420126120  single_family   499700         0.0         3.0     4   \n",
       "1  M2415397004  single_family   340000         0.0         2.0     3   \n",
       "2  M1186346624  single_family   375900         0.0         3.0     4   \n",
       "3  M2897618299  single_family   395000         0.0         2.0     3   \n",
       "4  M2738139661  single_family  1275000         0.0         3.0     3   \n",
       "\n",
       "             city  postal_code state_code      county  building_size  lot_size  \n",
       "0           Dixon        95620         CA      Solano         2169.0    4783.0  \n",
       "1      Sacramento        95826         CA  Sacramento         1270.0    5920.0  \n",
       "2  Citrus Heights        95610         CA  Sacramento         1736.0    6098.0  \n",
       "3      Sacramento        95826         CA  Sacramento         1516.0    6739.0  \n",
       "4      Sacramento        95831         CA  Sacramento         3375.0   24202.0  "
      ]
     },
     "execution_count": 1084,
     "metadata": {},
     "output_type": "execute_result"
    }
   ],
   "source": [
    "data.head()"
   ]
  },
  {
   "cell_type": "code",
   "execution_count": 1085,
   "metadata": {},
   "outputs": [
    {
     "data": {
      "text/plain": [
       "(1938, 12)"
      ]
     },
     "execution_count": 1085,
     "metadata": {},
     "output_type": "execute_result"
    }
   ],
   "source": [
    "data.shape"
   ]
  },
  {
   "cell_type": "code",
   "execution_count": 1086,
   "metadata": {},
   "outputs": [
    {
     "data": {
      "text/html": [
       "<div>\n",
       "<style scoped>\n",
       "    .dataframe tbody tr th:only-of-type {\n",
       "        vertical-align: middle;\n",
       "    }\n",
       "\n",
       "    .dataframe tbody tr th {\n",
       "        vertical-align: top;\n",
       "    }\n",
       "\n",
       "    .dataframe thead th {\n",
       "        text-align: right;\n",
       "    }\n",
       "</style>\n",
       "<table border=\"1\" class=\"dataframe\">\n",
       "  <thead>\n",
       "    <tr style=\"text-align: right;\">\n",
       "      <th></th>\n",
       "      <th>price</th>\n",
       "      <th>baths_half</th>\n",
       "      <th>baths_full</th>\n",
       "      <th>beds</th>\n",
       "      <th>postal_code</th>\n",
       "      <th>building_size</th>\n",
       "      <th>lot_size</th>\n",
       "    </tr>\n",
       "  </thead>\n",
       "  <tbody>\n",
       "    <tr>\n",
       "      <th>count</th>\n",
       "      <td>1.938000e+03</td>\n",
       "      <td>1938.000000</td>\n",
       "      <td>1935.000000</td>\n",
       "      <td>1938.000000</td>\n",
       "      <td>1938.000000</td>\n",
       "      <td>1938.000000</td>\n",
       "      <td>1.938000e+03</td>\n",
       "    </tr>\n",
       "    <tr>\n",
       "      <th>mean</th>\n",
       "      <td>1.355565e+06</td>\n",
       "      <td>0.325593</td>\n",
       "      <td>2.459948</td>\n",
       "      <td>3.585139</td>\n",
       "      <td>93376.052632</td>\n",
       "      <td>2219.891641</td>\n",
       "      <td>8.756488e+04</td>\n",
       "    </tr>\n",
       "    <tr>\n",
       "      <th>std</th>\n",
       "      <td>3.101489e+06</td>\n",
       "      <td>0.549816</td>\n",
       "      <td>1.366357</td>\n",
       "      <td>1.090734</td>\n",
       "      <td>1411.851429</td>\n",
       "      <td>1653.106483</td>\n",
       "      <td>3.108139e+06</td>\n",
       "    </tr>\n",
       "    <tr>\n",
       "      <th>min</th>\n",
       "      <td>2.570000e+03</td>\n",
       "      <td>0.000000</td>\n",
       "      <td>1.000000</td>\n",
       "      <td>0.000000</td>\n",
       "      <td>90001.000000</td>\n",
       "      <td>384.000000</td>\n",
       "      <td>9.800000e+02</td>\n",
       "    </tr>\n",
       "    <tr>\n",
       "      <th>25%</th>\n",
       "      <td>4.730750e+05</td>\n",
       "      <td>0.000000</td>\n",
       "      <td>2.000000</td>\n",
       "      <td>3.000000</td>\n",
       "      <td>92551.000000</td>\n",
       "      <td>1395.000000</td>\n",
       "      <td>5.227000e+03</td>\n",
       "    </tr>\n",
       "    <tr>\n",
       "      <th>50%</th>\n",
       "      <td>7.850000e+05</td>\n",
       "      <td>0.000000</td>\n",
       "      <td>2.000000</td>\n",
       "      <td>3.000000</td>\n",
       "      <td>93306.000000</td>\n",
       "      <td>1845.000000</td>\n",
       "      <td>7.000000e+03</td>\n",
       "    </tr>\n",
       "    <tr>\n",
       "      <th>75%</th>\n",
       "      <td>1.425000e+06</td>\n",
       "      <td>1.000000</td>\n",
       "      <td>3.000000</td>\n",
       "      <td>4.000000</td>\n",
       "      <td>94556.000000</td>\n",
       "      <td>2597.000000</td>\n",
       "      <td>1.000000e+04</td>\n",
       "    </tr>\n",
       "    <tr>\n",
       "      <th>max</th>\n",
       "      <td>1.000000e+08</td>\n",
       "      <td>5.000000</td>\n",
       "      <td>28.000000</td>\n",
       "      <td>20.000000</td>\n",
       "      <td>95961.000000</td>\n",
       "      <td>41000.000000</td>\n",
       "      <td>1.367784e+08</td>\n",
       "    </tr>\n",
       "  </tbody>\n",
       "</table>\n",
       "</div>"
      ],
      "text/plain": [
       "              price   baths_half   baths_full         beds   postal_code  \\\n",
       "count  1.938000e+03  1938.000000  1935.000000  1938.000000   1938.000000   \n",
       "mean   1.355565e+06     0.325593     2.459948     3.585139  93376.052632   \n",
       "std    3.101489e+06     0.549816     1.366357     1.090734   1411.851429   \n",
       "min    2.570000e+03     0.000000     1.000000     0.000000  90001.000000   \n",
       "25%    4.730750e+05     0.000000     2.000000     3.000000  92551.000000   \n",
       "50%    7.850000e+05     0.000000     2.000000     3.000000  93306.000000   \n",
       "75%    1.425000e+06     1.000000     3.000000     4.000000  94556.000000   \n",
       "max    1.000000e+08     5.000000    28.000000    20.000000  95961.000000   \n",
       "\n",
       "       building_size      lot_size  \n",
       "count    1938.000000  1.938000e+03  \n",
       "mean     2219.891641  8.756488e+04  \n",
       "std      1653.106483  3.108139e+06  \n",
       "min       384.000000  9.800000e+02  \n",
       "25%      1395.000000  5.227000e+03  \n",
       "50%      1845.000000  7.000000e+03  \n",
       "75%      2597.000000  1.000000e+04  \n",
       "max     41000.000000  1.367784e+08  "
      ]
     },
     "execution_count": 1086,
     "metadata": {},
     "output_type": "execute_result"
    }
   ],
   "source": [
    "data.describe()"
   ]
  },
  {
   "cell_type": "code",
   "execution_count": 1087,
   "metadata": {},
   "outputs": [
    {
     "data": {
      "text/plain": [
       "property_id      1938\n",
       "prop_type        1938\n",
       "price            1938\n",
       "baths_half       1938\n",
       "baths_full       1935\n",
       "beds             1938\n",
       "city             1938\n",
       "postal_code      1938\n",
       "state_code       1938\n",
       "county           1937\n",
       "building_size    1938\n",
       "lot_size         1938\n",
       "dtype: int64"
      ]
     },
     "execution_count": 1087,
     "metadata": {},
     "output_type": "execute_result"
    }
   ],
   "source": [
    "data.count()"
   ]
  },
  {
   "cell_type": "code",
   "execution_count": 1088,
   "metadata": {},
   "outputs": [
    {
     "data": {
      "text/plain": [
       "property_id      0\n",
       "prop_type        0\n",
       "price            0\n",
       "baths_half       0\n",
       "baths_full       3\n",
       "beds             0\n",
       "city             0\n",
       "postal_code      0\n",
       "state_code       0\n",
       "county           1\n",
       "building_size    0\n",
       "lot_size         0\n",
       "dtype: int64"
      ]
     },
     "execution_count": 1088,
     "metadata": {},
     "output_type": "execute_result"
    }
   ],
   "source": [
    "data.isnull().sum()"
   ]
  },
  {
   "cell_type": "code",
   "execution_count": 1089,
   "metadata": {},
   "outputs": [],
   "source": [
    "data['baths_full'] = data['baths_full'].fillna(0)\n",
    "data['county'] = data['county'].fillna(0)"
   ]
  },
  {
   "cell_type": "code",
   "execution_count": 1090,
   "metadata": {},
   "outputs": [],
   "source": [
    "X = data[[\"baths_half\", \"baths_full\", \"beds\", \"city\", \"building_size\" ]]"
   ]
  },
  {
   "cell_type": "code",
   "execution_count": 1091,
   "metadata": {},
   "outputs": [],
   "source": [
    "#converting Categorical atrr to numeric\n",
    "from sklearn.preprocessing import LabelEncoder, OneHotEncoder\n",
    "enc = LabelEncoder()\n",
    "data.iloc[:,6] = enc.fit_transform(data.iloc[:,6])"
   ]
  },
  {
   "cell_type": "code",
   "execution_count": 1092,
   "metadata": {},
   "outputs": [
    {
     "data": {
      "text/html": [
       "<div>\n",
       "<style scoped>\n",
       "    .dataframe tbody tr th:only-of-type {\n",
       "        vertical-align: middle;\n",
       "    }\n",
       "\n",
       "    .dataframe tbody tr th {\n",
       "        vertical-align: top;\n",
       "    }\n",
       "\n",
       "    .dataframe thead th {\n",
       "        text-align: right;\n",
       "    }\n",
       "</style>\n",
       "<table border=\"1\" class=\"dataframe\">\n",
       "  <thead>\n",
       "    <tr style=\"text-align: right;\">\n",
       "      <th></th>\n",
       "      <th>property_id</th>\n",
       "      <th>prop_type</th>\n",
       "      <th>price</th>\n",
       "      <th>baths_half</th>\n",
       "      <th>baths_full</th>\n",
       "      <th>beds</th>\n",
       "      <th>city</th>\n",
       "      <th>postal_code</th>\n",
       "      <th>state_code</th>\n",
       "      <th>county</th>\n",
       "      <th>building_size</th>\n",
       "      <th>lot_size</th>\n",
       "    </tr>\n",
       "  </thead>\n",
       "  <tbody>\n",
       "    <tr>\n",
       "      <th>0</th>\n",
       "      <td>M1420126120</td>\n",
       "      <td>single_family</td>\n",
       "      <td>499700</td>\n",
       "      <td>0.0</td>\n",
       "      <td>3.0</td>\n",
       "      <td>4</td>\n",
       "      <td>33</td>\n",
       "      <td>95620</td>\n",
       "      <td>CA</td>\n",
       "      <td>Solano</td>\n",
       "      <td>2169.0</td>\n",
       "      <td>4783.0</td>\n",
       "    </tr>\n",
       "    <tr>\n",
       "      <th>1</th>\n",
       "      <td>M2415397004</td>\n",
       "      <td>single_family</td>\n",
       "      <td>340000</td>\n",
       "      <td>0.0</td>\n",
       "      <td>2.0</td>\n",
       "      <td>3</td>\n",
       "      <td>121</td>\n",
       "      <td>95826</td>\n",
       "      <td>CA</td>\n",
       "      <td>Sacramento</td>\n",
       "      <td>1270.0</td>\n",
       "      <td>5920.0</td>\n",
       "    </tr>\n",
       "    <tr>\n",
       "      <th>2</th>\n",
       "      <td>M1186346624</td>\n",
       "      <td>single_family</td>\n",
       "      <td>375900</td>\n",
       "      <td>0.0</td>\n",
       "      <td>3.0</td>\n",
       "      <td>4</td>\n",
       "      <td>22</td>\n",
       "      <td>95610</td>\n",
       "      <td>CA</td>\n",
       "      <td>Sacramento</td>\n",
       "      <td>1736.0</td>\n",
       "      <td>6098.0</td>\n",
       "    </tr>\n",
       "    <tr>\n",
       "      <th>3</th>\n",
       "      <td>M2897618299</td>\n",
       "      <td>single_family</td>\n",
       "      <td>395000</td>\n",
       "      <td>0.0</td>\n",
       "      <td>2.0</td>\n",
       "      <td>3</td>\n",
       "      <td>121</td>\n",
       "      <td>95826</td>\n",
       "      <td>CA</td>\n",
       "      <td>Sacramento</td>\n",
       "      <td>1516.0</td>\n",
       "      <td>6739.0</td>\n",
       "    </tr>\n",
       "    <tr>\n",
       "      <th>4</th>\n",
       "      <td>M2738139661</td>\n",
       "      <td>single_family</td>\n",
       "      <td>1275000</td>\n",
       "      <td>0.0</td>\n",
       "      <td>3.0</td>\n",
       "      <td>3</td>\n",
       "      <td>121</td>\n",
       "      <td>95831</td>\n",
       "      <td>CA</td>\n",
       "      <td>Sacramento</td>\n",
       "      <td>3375.0</td>\n",
       "      <td>24202.0</td>\n",
       "    </tr>\n",
       "  </tbody>\n",
       "</table>\n",
       "</div>"
      ],
      "text/plain": [
       "   property_id      prop_type    price  baths_half  baths_full  beds  city  \\\n",
       "0  M1420126120  single_family   499700         0.0         3.0     4    33   \n",
       "1  M2415397004  single_family   340000         0.0         2.0     3   121   \n",
       "2  M1186346624  single_family   375900         0.0         3.0     4    22   \n",
       "3  M2897618299  single_family   395000         0.0         2.0     3   121   \n",
       "4  M2738139661  single_family  1275000         0.0         3.0     3   121   \n",
       "\n",
       "   postal_code state_code      county  building_size  lot_size  \n",
       "0        95620         CA      Solano         2169.0    4783.0  \n",
       "1        95826         CA  Sacramento         1270.0    5920.0  \n",
       "2        95610         CA  Sacramento         1736.0    6098.0  \n",
       "3        95826         CA  Sacramento         1516.0    6739.0  \n",
       "4        95831         CA  Sacramento         3375.0   24202.0  "
      ]
     },
     "execution_count": 1092,
     "metadata": {},
     "output_type": "execute_result"
    }
   ],
   "source": [
    "data.head()"
   ]
  },
  {
   "cell_type": "code",
   "execution_count": 1093,
   "metadata": {},
   "outputs": [],
   "source": [
    "X = data[[\"baths_half\", \"baths_full\", \"beds\", \"city\", \"building_size\", \"lot_size\" ]]\n",
    "# onehot = OneHotEncoder(categories=\"auto\")\n",
    "# X = onehot.fit_transform(X).toarray()"
   ]
  },
  {
   "cell_type": "code",
   "execution_count": 1094,
   "metadata": {},
   "outputs": [
    {
     "name": "stdout",
     "output_type": "stream",
     "text": [
      "(1938, 6) (1938, 1)\n"
     ]
    }
   ],
   "source": [
    "y = data[\"price\"].values.reshape(-1, 1)\n",
    "print(X.shape, y.shape)"
   ]
  },
  {
   "cell_type": "code",
   "execution_count": 1095,
   "metadata": {},
   "outputs": [
    {
     "data": {
      "text/plain": [
       "LinearRegression(copy_X=True, fit_intercept=True, n_jobs=None, normalize=False)"
      ]
     },
     "execution_count": 1095,
     "metadata": {},
     "output_type": "execute_result"
    }
   ],
   "source": [
    "model = LinearRegression()\n",
    "model.fit(X,y)"
   ]
  },
  {
   "cell_type": "code",
   "execution_count": 1096,
   "metadata": {},
   "outputs": [
    {
     "data": {
      "text/html": [
       "<div>\n",
       "<style scoped>\n",
       "    .dataframe tbody tr th:only-of-type {\n",
       "        vertical-align: middle;\n",
       "    }\n",
       "\n",
       "    .dataframe tbody tr th {\n",
       "        vertical-align: top;\n",
       "    }\n",
       "\n",
       "    .dataframe thead th {\n",
       "        text-align: right;\n",
       "    }\n",
       "</style>\n",
       "<table border=\"1\" class=\"dataframe\">\n",
       "  <thead>\n",
       "    <tr style=\"text-align: right;\">\n",
       "      <th></th>\n",
       "      <th>baths_half</th>\n",
       "      <th>baths_full</th>\n",
       "      <th>beds</th>\n",
       "      <th>city</th>\n",
       "      <th>building_size</th>\n",
       "      <th>lot_size</th>\n",
       "    </tr>\n",
       "  </thead>\n",
       "  <tbody>\n",
       "    <tr>\n",
       "      <th>369</th>\n",
       "      <td>0.0</td>\n",
       "      <td>4.0</td>\n",
       "      <td>4</td>\n",
       "      <td>124</td>\n",
       "      <td>3264.0</td>\n",
       "      <td>2996.0</td>\n",
       "    </tr>\n",
       "    <tr>\n",
       "      <th>1154</th>\n",
       "      <td>0.0</td>\n",
       "      <td>2.0</td>\n",
       "      <td>3</td>\n",
       "      <td>156</td>\n",
       "      <td>1365.0</td>\n",
       "      <td>6761.0</td>\n",
       "    </tr>\n",
       "    <tr>\n",
       "      <th>1669</th>\n",
       "      <td>0.0</td>\n",
       "      <td>3.0</td>\n",
       "      <td>3</td>\n",
       "      <td>133</td>\n",
       "      <td>1297.0</td>\n",
       "      <td>8712.0</td>\n",
       "    </tr>\n",
       "    <tr>\n",
       "      <th>14</th>\n",
       "      <td>0.0</td>\n",
       "      <td>3.0</td>\n",
       "      <td>4</td>\n",
       "      <td>118</td>\n",
       "      <td>2508.0</td>\n",
       "      <td>12985.0</td>\n",
       "    </tr>\n",
       "    <tr>\n",
       "      <th>1465</th>\n",
       "      <td>0.0</td>\n",
       "      <td>1.0</td>\n",
       "      <td>1</td>\n",
       "      <td>117</td>\n",
       "      <td>832.0</td>\n",
       "      <td>8712.0</td>\n",
       "    </tr>\n",
       "    <tr>\n",
       "      <th>...</th>\n",
       "      <td>...</td>\n",
       "      <td>...</td>\n",
       "      <td>...</td>\n",
       "      <td>...</td>\n",
       "      <td>...</td>\n",
       "      <td>...</td>\n",
       "    </tr>\n",
       "    <tr>\n",
       "      <th>1558</th>\n",
       "      <td>0.0</td>\n",
       "      <td>2.0</td>\n",
       "      <td>3</td>\n",
       "      <td>117</td>\n",
       "      <td>2336.0</td>\n",
       "      <td>3881.0</td>\n",
       "    </tr>\n",
       "    <tr>\n",
       "      <th>1608</th>\n",
       "      <td>0.0</td>\n",
       "      <td>2.0</td>\n",
       "      <td>3</td>\n",
       "      <td>117</td>\n",
       "      <td>980.0</td>\n",
       "      <td>10019.0</td>\n",
       "    </tr>\n",
       "    <tr>\n",
       "      <th>493</th>\n",
       "      <td>0.0</td>\n",
       "      <td>3.0</td>\n",
       "      <td>4</td>\n",
       "      <td>124</td>\n",
       "      <td>1903.0</td>\n",
       "      <td>2996.0</td>\n",
       "    </tr>\n",
       "    <tr>\n",
       "      <th>527</th>\n",
       "      <td>0.0</td>\n",
       "      <td>2.0</td>\n",
       "      <td>3</td>\n",
       "      <td>94</td>\n",
       "      <td>1592.0</td>\n",
       "      <td>4640.0</td>\n",
       "    </tr>\n",
       "    <tr>\n",
       "      <th>1192</th>\n",
       "      <td>0.0</td>\n",
       "      <td>3.0</td>\n",
       "      <td>4</td>\n",
       "      <td>165</td>\n",
       "      <td>2311.0</td>\n",
       "      <td>11699.0</td>\n",
       "    </tr>\n",
       "  </tbody>\n",
       "</table>\n",
       "<p>1550 rows × 6 columns</p>\n",
       "</div>"
      ],
      "text/plain": [
       "      baths_half  baths_full  beds  city  building_size  lot_size\n",
       "369          0.0         4.0     4   124         3264.0    2996.0\n",
       "1154         0.0         2.0     3   156         1365.0    6761.0\n",
       "1669         0.0         3.0     3   133         1297.0    8712.0\n",
       "14           0.0         3.0     4   118         2508.0   12985.0\n",
       "1465         0.0         1.0     1   117          832.0    8712.0\n",
       "...          ...         ...   ...   ...            ...       ...\n",
       "1558         0.0         2.0     3   117         2336.0    3881.0\n",
       "1608         0.0         2.0     3   117          980.0   10019.0\n",
       "493          0.0         3.0     4   124         1903.0    2996.0\n",
       "527          0.0         2.0     3    94         1592.0    4640.0\n",
       "1192         0.0         3.0     4   165         2311.0   11699.0\n",
       "\n",
       "[1550 rows x 6 columns]"
      ]
     },
     "execution_count": 1096,
     "metadata": {},
     "output_type": "execute_result"
    }
   ],
   "source": [
    "# Split the data into training and testing\n",
    "from sklearn.model_selection import train_test_split\n",
    "X_train, X_test, y_train, y_test = train_test_split(X, y,test_size=.2, random_state=2)\n",
    "X_train"
   ]
  },
  {
   "cell_type": "code",
   "execution_count": null,
   "metadata": {},
   "outputs": [],
   "source": []
  },
  {
   "cell_type": "code",
   "execution_count": 1097,
   "metadata": {},
   "outputs": [],
   "source": [
    "from sklearn.preprocessing import StandardScaler\n",
    "# Create a StandardScater model and fit it to the training data\n",
    "from sklearn.preprocessing import StandardScaler\n",
    "scale = StandardScaler()\n",
    "X_train = scale.fit_transform(X_train)\n",
    "X_test = scale.transform(X_test)"
   ]
  },
  {
   "cell_type": "code",
   "execution_count": 1098,
   "metadata": {},
   "outputs": [
    {
     "data": {
      "text/plain": [
       "LinearRegression(copy_X=True, fit_intercept=True, n_jobs=None, normalize=False)"
      ]
     },
     "execution_count": 1098,
     "metadata": {},
     "output_type": "execute_result"
    }
   ],
   "source": [
    "model = LinearRegression()\n",
    "model.fit(X_train, y_train)"
   ]
  },
  {
   "cell_type": "code",
   "execution_count": 1099,
   "metadata": {},
   "outputs": [
    {
     "data": {
      "image/png": "[encoded data removed]",
      "text/plain": [
       "<Figure size 432x288 with 1 Axes>"
      ]
     },
     "metadata": {
      "needs_background": "light"
     },
     "output_type": "display_data"
    }
   ],
   "source": [
    "# Create a LinearRegression model and fit it to the scaled training data\n",
    "from sklearn.linear_model import LinearRegression\n",
    "predictions = model.predict(X_test)\n",
    "model.fit(X_train, y_train)\n",
    "plt.scatter(model.predict(X_train), model.predict(X_train) - y_train, c=\"blue\", label=\"Training Data\")\n",
    "plt.scatter(model.predict(X_test), model.predict(X_test) - y_test, c=\"orange\", label=\"Testing Data\")\n",
    "plt.legend()\n",
    "plt.hlines(y=0, xmin=y_test.min(), xmax=y_test.max())\n",
    "plt.title(\"Residual Plot\")\n",
    "plt.show()"
   ]
  },
  {
   "cell_type": "code",
   "execution_count": 1100,
   "metadata": {},
   "outputs": [
    {
     "data": {
      "text/plain": [
       "0.360442439494965"
      ]
     },
     "execution_count": 1100,
     "metadata": {},
     "output_type": "execute_result"
    }
   ],
   "source": [
    "from sklearn.metrics import mean_squared_error\n",
    "#MSE = mean_squared_error(y_train, predictions)\n",
    "r2 = model.score(X_train, y_train)\n",
    "r2"
   ]
  },
  {
   "cell_type": "code",
   "execution_count": 1101,
   "metadata": {},
   "outputs": [
    {
     "name": "stdout",
     "output_type": "stream",
     "text": [
      "MSE: 3644203875088.766, R2: 0.24348524615577696\n"
     ]
    }
   ],
   "source": [
    "from sklearn.metrics import mean_squared_error\n",
    "\n",
    "MSE = mean_squared_error(y_test, predictions)\n",
    "r2 = model.score(X_test, y_test)\n",
    "\n",
    "\n",
    "print(f\"MSE: {MSE}, R2: {r2}\")"
   ]
  },
  {
   "cell_type": "code",
   "execution_count": 1102,
   "metadata": {},
   "outputs": [
    {
     "name": "stdout",
     "output_type": "stream",
     "text": [
      "True output: [850000]\n",
      "Predicted output: [844280.11531419]\n",
      "Prediction Error: [-5719.88468581]\n"
     ]
    }
   ],
   "source": [
    "predictions = model.predict(X_test)\n",
    "print(f\"True output: {y_test[0]}\")\n",
    "print(f\"Predicted output: {predictions[0]}\")\n",
    "print(f\"Prediction Error: {predictions[0]-y_test[0]}\")"
   ]
  },
  {
   "cell_type": "code",
   "execution_count": 1103,
   "metadata": {},
   "outputs": [],
   "source": [
    "# pd.DataFrame({\"Predicted\": predictions, \"Actual\": y, \"Error\": predictions - y})"
   ]
  },
  {
   "cell_type": "code",
   "execution_count": null,
   "metadata": {},
   "outputs": [],
   "source": []
  }
 ],
 "metadata": {
  "kernelspec": {
   "display_name": "Python [conda env:pythondata] *",
   "language": "python",
   "name": "conda-env-pythondata-py"
  },
  "language_info": {
   "codemirror_mode": {
    "name": "ipython",
    "version": 3
   },
   "file_extension": ".py",
   "mimetype": "text/x-python",
   "name": "python",
   "nbconvert_exporter": "python",
   "pygments_lexer": "ipython3",
   "version": "3.6.9"
  }
 },
 "nbformat": 4,
 "nbformat_minor": 2
}
